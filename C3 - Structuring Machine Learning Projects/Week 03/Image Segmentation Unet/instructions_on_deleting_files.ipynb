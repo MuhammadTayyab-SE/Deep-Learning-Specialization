{
 "cells": [
  {
   "cell_type": "markdown",
   "metadata": {},
   "source": [
    "The following are instructions on deleting any files/folders in case you run into an error while deleting them using the user interface:\n",
    "\n",
    "- rm -rf /tf/W3A2/Image_segmentation_Unet_v2.ipynb\n",
    "\n",
    "In the above command, you are force removing the assignment notebook `Image_segmentation_Unet_v2.ipynb`. Similarly. you can force remove any other file/folder using the same command, and instead of the assignment file name, you can replace it with the name of the file/folder you want to remove (`rm -rf /tf/W3A2/` will remain the same)\n",
    "\n",
    "Running the command below while remove the assignemnt file, `Image_segmentation_Unet_v2.ipynb`"
   ]
  },
  {
   "cell_type": "code",
   "execution_count": null,
   "metadata": {},
   "outputs": [],
   "source": [
    "# don't remove \"!\" from the beginning\n",
    "# as this lets the code cell know it is a 'Terminal' command which you are about to run\n",
    "# without \"!\" in the beginning you'll run into an error \"name 'rm' is not defined\"\n",
    "!rm -rf /tf/W3A2/Image_segmentation_Unet_v2.ipynb\n",
    "\n",
    "# !rm -rf /tf/W3A2/Image_segmentation_Unet_v2.ipynb"
   ]
  },
  {
   "cell_type": "markdown",
   "metadata": {},
   "source": [
    "When the code block succesfully runs, you can go back to your workspace by clicking `File --> Open...` in the top left corner. You can use the instructions provided [here](https://www.coursera.org/learn/convolutional-neural-networks/supplement/DS4yP/h-ow-to-refresh-your-workspace) to fetch the latest copy of the file/folder you have deleted."
   ]
  },
  {
   "cell_type": "code",
   "execution_count": null,
   "metadata": {},
   "outputs": [],
   "source": []
  }
 ],
 "metadata": {
  "kernelspec": {
   "display_name": "Python 3",
   "language": "python",
   "name": "python3"
  },
  "language_info": {
   "codemirror_mode": {
    "name": "ipython",
    "version": 3
   },
   "file_extension": ".py",
   "mimetype": "text/x-python",
   "name": "python",
   "nbconvert_exporter": "python",
   "pygments_lexer": "ipython3",
   "version": "3.8.10"
  }
 },
 "nbformat": 4,
 "nbformat_minor": 2
}
